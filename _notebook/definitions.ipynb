{
 "cells": [
  {
   "attachments": {},
   "cell_type": "markdown",
   "metadata": {},
   "source": [
    "# Definitions\n",
    "\n",
    "Some definitions of bash shell commands and concepts."
   ]
  },
  {
   "attachments": {},
   "cell_type": "markdown",
   "metadata": {},
   "source": [
    "## Redirections\n",
    "\n",
    "---\n",
    "\n",
    "Before a command is executed, the shell allows its input and output to be directed to different places using special symbols. This is called \"redirection.\" Redirection lets you duplicate, open, close, or change file handles, which are references to files that commands read from or write to. You can also use redirection to modify file handles in the current shell environment.\n",
    "\n",
    "There are several redirection operators you can use before or after a command. Redirections are processed in the order they appear, from left to right."
   ]
  },
  {
   "cell_type": "code",
   "execution_count": 10,
   "metadata": {
    "vscode": {
     "languageId": "shellscript"
    }
   },
   "outputs": [],
   "source": [
    "%%bash\n",
    "\n",
    "touch file.txt\n",
    "echo \"Text in file file.txt\" > file.txt"
   ]
  },
  {
   "attachments": {},
   "cell_type": "markdown",
   "metadata": {},
   "source": [
    "### Redirecting Input\n",
    "\n",
    "The '<' operator is used to redirect command input from a file descriptor if present, otherwise the file descriptor is taken directly from the file.\n",
    "\n",
    "This:"
   ]
  },
  {
   "cell_type": "code",
   "execution_count": 11,
   "metadata": {
    "vscode": {
     "languageId": "shellscript"
    }
   },
   "outputs": [
    {
     "name": "stdout",
     "output_type": "stream",
     "text": [
      "Text in file file.txt\n"
     ]
    }
   ],
   "source": [
    "%%bash \n",
    "\n",
    "exec {fd}<file.txt\n",
    "cat <&$fd"
   ]
  },
  {
   "attachments": {},
   "cell_type": "markdown",
   "metadata": {},
   "source": [
    "It's the same as this:"
   ]
  },
  {
   "cell_type": "code",
   "execution_count": 12,
   "metadata": {
    "vscode": {
     "languageId": "shellscript"
    }
   },
   "outputs": [
    {
     "name": "stdout",
     "output_type": "stream",
     "text": [
      "Text in file file.txt\n"
     ]
    }
   ],
   "source": [
    "%%bash\n",
    "\n",
    "cat < file.txt"
   ]
  },
  {
   "attachments": {},
   "cell_type": "markdown",
   "metadata": {},
   "source": [
    "### Redirecting Output\n",
    "\n",
    "The '>' operator is used to redirect the output of a command to a file. If the file does not exist, it is created, if it already exist it is truncated to zero size.\n"
   ]
  },
  {
   "cell_type": "code",
   "execution_count": 13,
   "metadata": {
    "vscode": {
     "languageId": "shellscript"
    }
   },
   "outputs": [
    {
     "name": "stdout",
     "output_type": "stream",
     "text": [
      "Text in file file.txt\n",
      "Overwrite\n"
     ]
    }
   ],
   "source": [
    "%%bash\n",
    "\n",
    "cat file.txt\n",
    "\n",
    "echo \"Overwrite\" > file.txt\n",
    "\n",
    "cat file.txt"
   ]
  },
  {
   "attachments": {},
   "cell_type": "markdown",
   "metadata": {},
   "source": [
    "### Appending Redirected Output\n",
    "\n",
    "The '>>' operator is used to redirect the output of a command to a file. If the file does not exist, it is created, if it already exists, the output is appended to the end of the file."
   ]
  },
  {
   "cell_type": "code",
   "execution_count": 14,
   "metadata": {
    "vscode": {
     "languageId": "shellscript"
    }
   },
   "outputs": [
    {
     "name": "stdout",
     "output_type": "stream",
     "text": [
      "Overwrite\n",
      "Append\n"
     ]
    }
   ],
   "source": [
    "%%bash\n",
    "\n",
    "echo \"Append\" >> file.txt\n",
    "\n",
    "cat file.txt"
   ]
  },
  {
   "attachments": {},
   "cell_type": "markdown",
   "metadata": {},
   "source": [
    "### Here Documents\n",
    "\n",
    "The '<<' operator is used to redirect input from a here document. This allows you to create a document on the fly and pass it as input to a command.\n",
    "\n",
    "The file created by the here document is temporary and is deleted when the command ends.\n",
    "\n",
    "To use a here document, you must specify a word that will be used as a delimiter. This word can be any string of characters, but it is recommended to use a string that is not likely to appear in the document.\n"
   ]
  },
  {
   "cell_type": "code",
   "execution_count": 29,
   "metadata": {
    "vscode": {
     "languageId": "shellscript"
    }
   },
   "outputs": [
    {
     "name": "stdout",
     "output_type": "stream",
     "text": [
      "Writing something in HEREDOC\n",
      "Something else\n",
      "...\n"
     ]
    }
   ],
   "source": [
    "%%bash\n",
    "\n",
    "cat << EOF\n",
    "Writing something in HEREDOC\n",
    "Something else\n",
    "...\n",
    "EOF"
   ]
  },
  {
   "attachments": {},
   "cell_type": "markdown",
   "metadata": {},
   "source": [
    "No parameter and variable expansion, command substitution, arithmetic expansion, or filename expansion is performed on delimiter word."
   ]
  },
  {
   "cell_type": "code",
   "execution_count": 30,
   "metadata": {
    "vscode": {
     "languageId": "shellscript"
    }
   },
   "outputs": [
    {
     "name": "stdout",
     "output_type": "stream",
     "text": [
      "...\n"
     ]
    }
   ],
   "source": [
    "%%bash\n",
    "\n",
    "cat << $HOME\n",
    "...\n",
    "$HOME"
   ]
  },
  {
   "attachments": {},
   "cell_type": "markdown",
   "metadata": {},
   "source": [
    "If any part of delimiter is quoted, the delimiter is the result of quote removal on delimiter, and the lines in the here-document are not expanded."
   ]
  },
  {
   "cell_type": "code",
   "execution_count": 33,
   "metadata": {
    "vscode": {
     "languageId": "shellscript"
    }
   },
   "outputs": [
    {
     "name": "stdout",
     "output_type": "stream",
     "text": [
      "$SHELL\n",
      "...\n"
     ]
    }
   ],
   "source": [
    "%%bash\n",
    "\n",
    "cat << 'EOF'\n",
    "$SHELL\n",
    "...\n",
    "EOF"
   ]
  },
  {
   "attachments": {},
   "cell_type": "markdown",
   "metadata": {},
   "source": [
    "If delimiter is unquoted, all lines of the here-document are subjected to parameter expansion, command substitution, and arithmetic expansion, the character sequence \\newline is ignored, and ‘\\’ must be used to quote the characters ‘\\’, ‘$’, and ‘`’."
   ]
  },
  {
   "cell_type": "code",
   "execution_count": 34,
   "metadata": {
    "vscode": {
     "languageId": "shellscript"
    }
   },
   "outputs": [
    {
     "name": "stdout",
     "output_type": "stream",
     "text": [
      "/bin/bash\n",
      "...\n"
     ]
    }
   ],
   "source": [
    "%%bash\n",
    "\n",
    "cat << EOF\n",
    "$SHELL\n",
    "...\n",
    "EOF"
   ]
  },
  {
   "attachments": {},
   "cell_type": "markdown",
   "metadata": {},
   "source": [
    "## PIPE\n",
    "\n",
    "---\n",
    "\n",
    "TODO"
   ]
  },
  {
   "attachments": {},
   "cell_type": "markdown",
   "metadata": {},
   "source": [
    "## Boolean Operators\n",
    "\n",
    "---\n",
    "\n",
    "TODO"
   ]
  },
  {
   "attachments": {},
   "cell_type": "markdown",
   "metadata": {},
   "source": [
    "## Wildcards\n",
    "\n",
    "---\n",
    "\n",
    "TODO"
   ]
  }
 ],
 "metadata": {
  "kernelspec": {
   "display_name": "Python 3",
   "language": "python",
   "name": "python3"
  },
  "language_info": {
   "codemirror_mode": {
    "name": "ipython",
    "version": 3
   },
   "file_extension": ".py",
   "mimetype": "text/x-python",
   "name": "python",
   "nbconvert_exporter": "python",
   "pygments_lexer": "ipython3",
   "version": "3.10.6"
  },
  "orig_nbformat": 4
 },
 "nbformat": 4,
 "nbformat_minor": 2
}
