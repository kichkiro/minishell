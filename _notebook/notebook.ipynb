{
 "cells": [
  {
   "attachments": {},
   "cell_type": "markdown",
   "metadata": {},
   "source": [
    "# Minishell"
   ]
  },
  {
   "attachments": {},
   "cell_type": "markdown",
   "metadata": {},
   "source": [
    "### Funzioni ammesse\n",
    "\n",
    "| Funzione | Descrizione |\n",
    "| --- | --- |\n",
    "| `readline` | Legge una linea di input dallo standard input (tastiera) e la restituisce come una stringa. |\n",
    "| `rl_clear_history` | Cancella la cronologia delle linee di input immagazzinate nella libreria readline. |\n",
    "| `rl_on_new_line` | Posiziona il cursore in una nuova linea nella libreria readline. |\n",
    "| `rl_replace_line` | Sostituisce la linea di input corrente con una nuova linea nella libreria readline. |\n",
    "| `rl_redisplay` | Aggiorna la visualizzazione della linea di input corrente nella libreria readline. |\n",
    "| `add_history` | Aggiunge una linea di input alla cronologia delle linee di input nella libreria readline. |\n",
    "| `printf` | Scrive una stringa formattata sullo standard output (solitamente la console). |\n",
    "| `malloc` | Alloca dinamicamente la memoria richiesta a tempo di esecuzione. |\n",
    "| `free` | Libera la memoria precedentemente allocata con malloc. |\n",
    "| `write` | Scrive un blocco di dati su un file descriptor. |\n",
    "| `access` | Verifica se un file esiste e se l'utente ha il permesso di accedervi. |\n",
    "| `open` | Apre un file e restituisce un file descriptor. |\n",
    "| `read` | Legge un blocco di dati da un file descriptor. |\n",
    "| `close` | Chiude un file descriptor. |\n",
    "| `fork` | Crea un nuovo processo duplicando il processo chiamante. |\n",
    "| `wait` | Attende che uno dei processi figlio termini. |\n",
    "| `waitpid` | Attende un processo figlio specifico termini. |\n",
    "| `wait3` | Attende che tutti i processi figlio terminino e restituisce informazioni sul loro stato. |\n",
    "| `wait4` | Attende un processo figlio specifico termini e restituisce informazioni sul suo stato. |\n",
    "| `signal` | Imposta un'azione da eseguire quando si verifica un segnale. |\n",
    "| `sigaction` | Imposta un'azione da eseguire quando si verifica un segnale, con maggiori opzioni di configurazione rispetto alla funzione signal. |\n",
    "| `sigemptyset` | Inizializza un insieme vuoto di segnali. |\n",
    "| `sigaddset` | Aggiunge un segnale a un insieme di segnali. |\n",
    "| `kill` | Invia un segnale a un processo. |\n",
    "| `exit` | Termina il processo in modo normale. |\n",
    "| `getcwd` | Restituisce il percorso della directory di lavoro corrente. |\n",
    "| `chdir` | Cambia la directory di lavoro corrente. |\n",
    "| `stat` | Restituisce le informazioni di stato di un file. |\n",
    "| `lstat` | Restituisce le informazioni di stato di un file, ignorando eventuali link simbolici. |\n",
    "| `fstat` | Restituisce le informazioni di stato di un file descriptor. |\n",
    "| `unlink` | Rimuove un file dal sistema. |\n",
    "| `execve` | Sostituisce il processo corrente con un nuovo processo. |\n",
    "| `dup` | Duplica un file descriptor e restituisce il valore del nuovo file descriptor. Il nuovo file descriptor ha lo stesso puntatore al file del file descriptor originale e condivide lo stesso offset del file. |\n",
    "| `dup2` | Duplica un file descriptor e ne assegna il valore a un altro file descriptor. |\n",
    "| `pipe` | Crea una coppia di file descriptor connessi da una pipe. |\n",
    "| `opendir` | Apre una directory e restituisce un puntatore a una struttura di tipo `DIR`. |\n",
    "| `readdir` | Legge una voce dalla directory aperta con `opendir`. |\n",
    "| `closedir` | Chiude una directory aperta con `opendir`. |\n",
    "| `strerror` | Restituisce una stringa di testo che descrive l'errore corrispondente al valore dell'errno. |\n",
    "| `perror` | Stampa su stderr una stringa di testo che descrive l'errore corrispondente al valore dell'errno. |\n",
    "| `isatty` | Verifica se un file descriptor è associato a un terminale. |\n",
    "| `ttyname` | Restituisce il nome del file corrispondente al terminale associato al file descriptor fornito. |\n",
    "| `ttyslot` | Restituisce lo slot di terminale del processo corrente. |\n",
    "| `ioctl` | Controlla e gestisce i dispositivi di I/O. |\n",
    "| `getenv` | Restituisce il valore di una variabile d'ambiente. |\n",
    "| `tcsetattr` | Configura i parametri della porta seriale. |\n",
    "| `tcgetattr` | Restituisce i parametri della porta seriale. |\n",
    "| `tgetent` | Carica le informazioni relative al terminale specificato nel buffer terminfo. |\n",
    "| `tgetflag` | Restituisce il valore di una capacità booleana del terminale. |\n",
    "| `tgetnum` | Restituisce il valore di una capacità numerica del terminale. |\n",
    "| `tgetstr` | Restituisce il valore di una capacità di stringa del terminale. |\n",
    "| `tgoto` | Componi una stringa di spostamento per il terminale. |\n",
    "| `tputs` | Stampa una stringa di controllo del terminale. |"
   ]
  },
  {
   "cell_type": "code",
   "execution_count": 1,
   "metadata": {},
   "outputs": [
    {
     "name": "stdout",
     "output_type": "stream",
     "text": [
      "> "
     ]
    }
   ],
   "source": [
    "// Esempio di utilizzo di readline();\n",
    "\n",
    "//%cflags:-lreadline\n",
    "\n",
    "#include <stdio.h>\n",
    "#include <readline/readline.h>\n",
    "\n",
    "int\tmain(void)\n",
    "{\n",
    "    char\t*input;\n",
    "\n",
    "    input = readline(\"> \");\n",
    "    printf(\"%s\", input);\n",
    "\n",
    "    return (0);\n",
    "}"
   ]
  },
  {
   "cell_type": "code",
   "execution_count": 4,
   "metadata": {},
   "outputs": [
    {
     "name": "stderr",
     "output_type": "stream",
     "text": [
      "/tmp/tmpy516qq5o.c: In function ‘find_executable’:\n",
      "/tmp/tmpy516qq5o.c:13:11: warning: implicit declaration of function ‘strdup’; did you mean ‘strcmp’? [-Wimplicit-function-declaration]\n",
      "   13 |     dir = strdup(path);\n",
      "      |           ^~~~~~\n",
      "      |           strcmp\n",
      "/tmp/tmpy516qq5o.c:13:9: warning: assignment to ‘char *’ from ‘int’ makes pointer from integer without a cast [-Wint-conversion]\n",
      "   13 |     dir = strdup(path);\n",
      "      |         ^\n",
      "[C kernel] Executable exited with code -11"
     ]
    }
   ],
   "source": [
    "#include <stdio.h>\n",
    "#include <stdlib.h>\n",
    "#include <string.h>\n",
    "#include <unistd.h>\n",
    "\n",
    "int find_executable(char *command) {\n",
    "    char *path = getenv(\"PATH\");\n",
    "    char *dir;\n",
    "    char *token;\n",
    "    char executable_path[1024];\n",
    "\n",
    "    // Split the PATH variable into individual directories\n",
    "    dir = strdup(path);\n",
    "    token = strtok(dir, \":\");\n",
    "    \n",
    "    // Look for the executable in each directory\n",
    "    while (token != NULL) {\n",
    "        sprintf(executable_path, \"%s/%s\", token, command);\n",
    "        if (access(executable_path, X_OK) == 0) {\n",
    "            // Found the executable\n",
    "            printf(\"Found %s in %s\\n\", command, token);\n",
    "            return execv(executable_path, NULL);\n",
    "        }\n",
    "        token = strtok(NULL, \":\");\n",
    "    }\n",
    "\n",
    "    // If we get here, the executable was not found\n",
    "    printf(\"Could not find %s\\n\", command);\n",
    "\n",
    "\tprintf(\"%s\", path);\n",
    "\n",
    "    return (-1);\n",
    "}\n",
    "\n",
    "int main() {\n",
    "    char *command = \"ls\";\n",
    "    find_executable(command);\n",
    "    return 0;\n",
    "}\n"
   ]
  }
 ],
 "metadata": {
  "kernelspec": {
   "display_name": "C",
   "language": "c",
   "name": "c"
  },
  "language_info": {
   "file_extension": ".c",
   "mimetype": "text/plain",
   "name": "c"
  },
  "orig_nbformat": 4
 },
 "nbformat": 4,
 "nbformat_minor": 2
}
