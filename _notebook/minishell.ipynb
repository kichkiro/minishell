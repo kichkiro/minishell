{
 "cells": [
  {
   "attachments": {},
   "cell_type": "markdown",
   "metadata": {},
   "source": [
    "# Minishell"
   ]
  },
  {
   "attachments": {},
   "cell_type": "markdown",
   "metadata": {},
   "source": [
    "## Parser\n",
    "---"
   ]
  },
  {
   "attachments": {},
   "cell_type": "markdown",
   "metadata": {},
   "source": [
    "To implement prompt parsing, we will use a finite state machine, which represents the control flow needed to break down the command into elements. The finite state machine consists of one or more states and a series of transitions between the states, according to which the operations necessary for parsing are performed.\n",
    "\n",
    "Once the command is divided into elements, we will use a data structure such as a concatenated list to represent the individual elements. This way, it will be possible to manipulate each element separately to perform the operations required by the command. We opted for a concatenated list because it allows us to have a dynamic structure."
   ]
  },
  {
   "attachments": {},
   "cell_type": "markdown",
   "metadata": {},
   "source": [
    "Definition of the list:"
   ]
  },
  {
   "cell_type": "code",
   "execution_count": null,
   "metadata": {
    "vscode": {
     "languageId": "c"
    }
   },
   "outputs": [],
   "source": [
    "typedef struct s_cmd\n",
    "{\n",
    "\tchar\t\t\t*token;\n",
    "\tchar\t\t\ttype;\n",
    "\tstruct s_cmd\t*next;\n",
    "\tstruct s_cmd\t*prev;\n",
    "}\tt_cmd;"
   ]
  },
  {
   "attachments": {},
   "cell_type": "markdown",
   "metadata": {},
   "source": [
    "The prompt is divided into tokens, of the following types:\n",
    "- STANDARD: It is the token representing commands, options and arguments.\n",
    "- REDIRECT: It is the token representing redirection characters.\n",
    "- PIPE: It is the token representing the pipe operator.\n",
    "- BOOLEAN: It is the token representing Boolean operators, including brackets.\n",
    "- NONE: It is a convention within the parsing system to indicate that the token has not yet been defined."
   ]
  },
  {
   "attachments": {},
   "cell_type": "markdown",
   "metadata": {},
   "source": [
    "``` c\n",
    "prompt = cat < file \n",
    "\n",
    "        +------------------------+    +------------------------+    +------------------------+                                              \n",
    "        |   addr: 0x7fffea48     |    |   addr: 0x2f96a8d1     |    |   addr: 0x1ef1bd7d     |                                             \n",
    "        +------------------------+    +------------------------+    +------------------------+                                               \n",
    "head -> |   token = \"cat \"       | -> |   token = \"<\"          | -> |   token = \"file\"       | -> NULL  \n",
    "        |   type  = STANDARD     |    |   type  = REDIRECT     |    |   type  = STANDARD     |                                      \n",
    "        |   next  = 0x2f96a8d1   |    |   next  = 0x1ef1bd7d   |    |   next  = NULL         |                                             \n",
    "        |   prev  = NULL         |    |   prev  = 0x7fffea48   |    |   prev  = 0x2f96a8d1   |                                             \n",
    "        +------------------------+    +------------------------+    +------------------------+\n",
    "```         "
   ]
  },
  {
   "attachments": {},
   "cell_type": "markdown",
   "metadata": {},
   "source": [
    "Delimiters between tokens are, if outside single and double quotes:\n",
    "- Spaces\n",
    "- characters of type REDIRECT\n",
    "- characters of type PIPE\n",
    "- characters of type BOOLEAN"
   ]
  },
  {
   "attachments": {},
   "cell_type": "markdown",
   "metadata": {},
   "source": [
    "Some examples of parsing:\n",
    "\n",
    "``` c\n",
    "prompt = echo \"'$USER'42 $SHELL\" '|' > file | (grep \"USER\" && echo 42)\n",
    "```\n",
    "| Token | Type | \n",
    "| --- | --- |\n",
    "| echo | STANDARD |\n",
    "| '$USER'42 /usr/bin/bash | STANDARD |\n",
    "| \\| | STANDARD |\n",
    "| > | REDIRECT |\n",
    "| file | STANDARD |\n",
    "| \\| | PIPE |\n",
    "| ( | BOOLEAN |\n",
    "| grep | STANDARD |\n",
    "| USER | STANDARD |\n",
    "| && | BOOLEAN |\n",
    "| echo | STANDARD |\n",
    "| 42 | STANDARD |\n",
    "| ) | BOOLEAN |\n"
   ]
  },
  {
   "attachments": {},
   "cell_type": "markdown",
   "metadata": {},
   "source": [
    "## Executor\n",
    "---"
   ]
  }
 ],
 "metadata": {
  "language_info": {
   "name": "python"
  },
  "orig_nbformat": 4
 },
 "nbformat": 4,
 "nbformat_minor": 2
}
