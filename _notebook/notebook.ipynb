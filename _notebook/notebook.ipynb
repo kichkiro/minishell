{
 "cells": [
  {
   "attachments": {},
   "cell_type": "markdown",
   "metadata": {},
   "source": [
    "# Minishell"
   ]
  },
  {
   "attachments": {},
   "cell_type": "markdown",
   "metadata": {},
   "source": [
    "### Funzioni ammesse\n",
    "\n",
    "| Funzione | Descrizione |\n",
    "| --- | --- |\n",
    "| `readline` | Legge una linea di input dallo standard input (tastiera) e la restituisce come una stringa. |\n",
    "| `rl_clear_history` | Cancella la cronologia delle linee di input immagazzinate nella libreria readline. |\n",
    "| `rl_on_new_line` | Posiziona il cursore in una nuova linea nella libreria readline. |\n",
    "| `rl_replace_line` | Sostituisce la linea di input corrente con una nuova linea nella libreria readline. |\n",
    "| `rl_redisplay` | Aggiorna la visualizzazione della linea di input corrente nella libreria readline. |\n",
    "| `add_history` | Aggiunge una linea di input alla cronologia delle linee di input nella libreria readline. |\n",
    "| `printf` | Scrive una stringa formattata sullo standard output (solitamente la console). |\n",
    "| `malloc` | Alloca dinamicamente la memoria richiesta a tempo di esecuzione. |\n",
    "| `free` | Libera la memoria precedentemente allocata con malloc. |\n",
    "| `write` | Scrive un blocco di dati su un file descriptor. |\n",
    "| `access` | Verifica se un file esiste e se l'utente ha il permesso di accedervi. |\n",
    "| `open` | Apre un file e restituisce un file descriptor. |\n",
    "| `read` | Legge un blocco di dati da un file descriptor. |\n",
    "| `close` | Chiude un file descriptor. |\n",
    "| `fork` | Crea un nuovo processo duplicando il processo chiamante. |\n",
    "| `wait` | Attende che uno dei processi figlio termini. |\n",
    "| `waitpid` | Attende un processo figlio specifico termini. |\n",
    "| `wait3` | Attende che tutti i processi figlio terminino e restituisce informazioni sul loro stato. |\n",
    "| `wait4` | Attende un processo figlio specifico termini e restituisce informazioni sul suo stato. |\n",
    "| `signal` | Imposta un'azione da eseguire quando si verifica un segnale. |\n",
    "| `sigaction` | Imposta un'azione da eseguire quando si verifica un segnale, con maggiori opzioni di configurazione rispetto alla funzione signal. |\n",
    "| `sigemptyset` | Inizializza un insieme vuoto di segnali. |\n",
    "| `sigaddset` | Aggiunge un segnale a un insieme di segnali. |\n",
    "| `kill` | Invia un segnale a un processo. |\n",
    "| `exit` | Termina il processo in modo normale. |\n",
    "| `getcwd` | Restituisce il percorso della directory di lavoro corrente. |\n",
    "| `chdir` | Cambia la directory di lavoro corrente. |\n",
    "| `stat` | Restituisce le informazioni di stato di un file. |\n",
    "| `lstat` | Restituisce le informazioni di stato di un file, ignorando eventuali link simbolici. |\n",
    "| `fstat` | Restituisce le informazioni di stato di un file descriptor. |\n",
    "| `unlink` | Rimuove un file dal sistema. |\n",
    "| `execve` | Sostituisce il processo corrente con un nuovo processo. |\n",
    "| `dup` | Duplica un file descriptor e restituisce il valore del nuovo file descriptor. Il nuovo file descriptor ha lo stesso puntatore al file del file descriptor originale e condivide lo stesso offset del file. |\n",
    "| `dup2` | Duplica un file descriptor e ne assegna il valore a un altro file descriptor. |\n",
    "| `pipe` | Crea una coppia di file descriptor connessi da una pipe. |\n",
    "| `opendir` | Apre una directory e restituisce un puntatore a una struttura di tipo `DIR`. |\n",
    "| `readdir` | Legge una voce dalla directory aperta con `opendir`. |\n",
    "| `closedir` | Chiude una directory aperta con `opendir`. |\n",
    "| `strerror` | Restituisce una stringa di testo che descrive l'errore corrispondente al valore dell'errno. |\n",
    "| `perror` | Stampa su stderr una stringa di testo che descrive l'errore corrispondente al valore dell'errno. |\n",
    "| `isatty` | Verifica se un file descriptor è associato a un terminale. |\n",
    "| `ttyname` | Restituisce il nome del file corrispondente al terminale associato al file descriptor fornito. |\n",
    "| `ttyslot` | Restituisce lo slot di terminale del processo corrente. |\n",
    "| `ioctl` | Controlla e gestisce i dispositivi di I/O. |\n",
    "| `getenv` | Restituisce il valore di una variabile d'ambiente. |\n",
    "| `tcsetattr` | Configura i parametri della porta seriale. |\n",
    "| `tcgetattr` | Restituisce i parametri della porta seriale. |\n",
    "| `tgetent` | Carica le informazioni relative al terminale specificato nel buffer terminfo. |\n",
    "| `tgetflag` | Restituisce il valore di una capacità booleana del terminale. |\n",
    "| `tgetnum` | Restituisce il valore di una capacità numerica del terminale. |\n",
    "| `tgetstr` | Restituisce il valore di una capacità di stringa del terminale. |\n",
    "| `tgoto` | Componi una stringa di spostamento per il terminale. |\n",
    "| `tputs` | Stampa una stringa di controllo del terminale. |"
   ]
  }
 ],
 "metadata": {
  "kernelspec": {
   "display_name": "Python 3",
   "language": "python",
   "name": "python3"
  },
  "language_info": {
   "codemirror_mode": {
    "name": "ipython",
    "version": 3
   },
   "file_extension": ".py",
   "mimetype": "text/x-python",
   "name": "python",
   "nbconvert_exporter": "python",
   "pygments_lexer": "ipython3",
   "version": "3.10.6"
  },
  "orig_nbformat": 4
 },
 "nbformat": 4,
 "nbformat_minor": 2
}
