{
 "cells": [
  {
   "attachments": {},
   "cell_type": "markdown",
   "metadata": {},
   "source": [
    "# Parsing"
   ]
  },
  {
   "attachments": {},
   "cell_type": "markdown",
   "metadata": {},
   "source": [
    "Per implementare il parsing dell'input, useremo una macchina a stati finiti, che rappresenta il flusso di controllo necessario per suddividere il comando in elementi. La macchina a stati finiti è costituita da uno o più stati e da una serie di transizioni tra gli stati, in base alle quali vengono eseguite le operazioni necessarie per il parsing.\n",
    "\n",
    "Una volta suddiviso il comando in elementi, utilizzeremo una struttura dati come una lista concatenata per rappresentare i singoli elementi. In questo modo, sara' possibile manipolare ogni elemento separatamente per eseguire le operazioni richieste dal comando. Abbiamo optato per una lista concatenata perché ci permette di avere una struttura dinamica."
   ]
  },
  {
   "attachments": {},
   "cell_type": "markdown",
   "metadata": {},
   "source": [
    "Definizione della lista:"
   ]
  },
  {
   "cell_type": "code",
   "execution_count": null,
   "metadata": {},
   "outputs": [],
   "source": [
    "typedef struct s_cmd\n",
    "{\n",
    "\tchar\t\t\t*token;\n",
    "\tstruct s_cmd\t*next;\n",
    "\tstruct s_cmd\t*prev;\n",
    "}\tt_cmd;\n"
   ]
  },
  {
   "attachments": {},
   "cell_type": "markdown",
   "metadata": {},
   "source": [
    "``` c\n",
    "input = ls -l /home/user\n",
    "\n",
    "        +------------------------+    +------------------------+    +------------------------+                                               \n",
    "        |   addr: 0x7fffea48     |    |   addr: 0x2f96a8d1     |    |   addr: 0x1ef1bd7d     |                                             \n",
    "        +------------------------+    +------------------------+    +------------------------+                                               \n",
    "head -> |   token = \"ls\"         | -> |   token = \"-l\"         | -> |   token = \"/home/user\" |                                          \n",
    "        |   next  = 0x2f96a8d1   |    |   next  = 0x1ef1bd7d   |    |   next  = NULL         |                                             \n",
    "        |   prev  = NULL         |    |   prev  = 0x7fffea48   |    |   prev  = 0x2f96a8d1   |                                             \n",
    "        +------------------------+    +------------------------+    +------------------------+\n",
    "```         "
   ]
  },
  {
   "attachments": {},
   "cell_type": "markdown",
   "metadata": {},
   "source": [
    "## Requirements Analysis\n",
    "\n",
    "- In bash i delimitatori tra un token e l'altro sono, se fuori da apici:\n",
    "\t- spazi\n",
    "\t- operatori di ridirezione (<<, <, >, >>)\n",
    "\t- operatori booleani (&&, ||)\n",
    "\t- pipeline (|)\n"
   ]
  },
  {
   "attachments": {},
   "cell_type": "markdown",
   "metadata": {},
   "source": [
    "### Single quotes\n",
    "\n",
    "- Tutto cio che si trova all'interno di singoli apici, non viene ne interpretato ne espanso, ma viene valutato letteralmente."
   ]
  },
  {
   "cell_type": "code",
   "execution_count": 14,
   "metadata": {
    "vscode": {
     "languageId": "shellscript"
    }
   },
   "outputs": [
    {
     "name": "stdout",
     "output_type": "stream",
     "text": [
      "$v\n"
     ]
    }
   ],
   "source": [
    "%%bash\n",
    "\n",
    "v=42\n",
    "echo '$v'"
   ]
  },
  {
   "cell_type": "code",
   "execution_count": 9,
   "metadata": {
    "vscode": {
     "languageId": "shellscript"
    }
   },
   "outputs": [
    {
     "name": "stdout",
     "output_type": "stream",
     "text": [
      "echo $v >> file.txt\n"
     ]
    }
   ],
   "source": [
    "%%bash\n",
    "\n",
    "echo 'echo $v >> file.txt' "
   ]
  },
  {
   "cell_type": "code",
   "execution_count": 11,
   "metadata": {
    "vscode": {
     "languageId": "shellscript"
    }
   },
   "outputs": [
    {
     "name": "stdout",
     "output_type": "stream",
     "text": [
      " \"\"  42\n"
     ]
    }
   ],
   "source": [
    "%%bash\n",
    "\n",
    "echo ' \"\" ' '42'"
   ]
  },
  {
   "cell_type": "code",
   "execution_count": 1,
   "metadata": {
    "vscode": {
     "languageId": "shellscript"
    }
   },
   "outputs": [
    {
     "name": "stdout",
     "output_type": "stream",
     "text": [
      "$?\n"
     ]
    }
   ],
   "source": [
    "%%bash\n",
    "\n",
    "echo '$?'"
   ]
  },
  {
   "cell_type": "code",
   "execution_count": 2,
   "metadata": {
    "vscode": {
     "languageId": "shellscript"
    }
   },
   "outputs": [
    {
     "name": "stdout",
     "output_type": "stream",
     "text": [
      "${$?}\n"
     ]
    }
   ],
   "source": [
    "%%bash\n",
    "\n",
    "echo '${$?}'"
   ]
  },
  {
   "cell_type": "code",
   "execution_count": 3,
   "metadata": {
    "vscode": {
     "languageId": "shellscript"
    }
   },
   "outputs": [
    {
     "name": "stdout",
     "output_type": "stream",
     "text": [
      "$v42\n"
     ]
    }
   ],
   "source": [
    "%%bash\n",
    "\n",
    "v=42\n",
    "echo '$v'$v"
   ]
  },
  {
   "cell_type": "code",
   "execution_count": 2,
   "metadata": {
    "vscode": {
     "languageId": "shellscript"
    }
   },
   "outputs": [
    {
     "name": "stdout",
     "output_type": "stream",
     "text": [
      "42 42\n"
     ]
    }
   ],
   "source": [
    "%%bash\n",
    "\n",
    "echo 42' '42"
   ]
  },
  {
   "attachments": {},
   "cell_type": "markdown",
   "metadata": {},
   "source": [
    "### Double quotes\n",
    "\n",
    "- Come per i singoli apici ad eccezione dell'operatore $, che viene espanso."
   ]
  },
  {
   "cell_type": "code",
   "execution_count": 15,
   "metadata": {
    "vscode": {
     "languageId": "shellscript"
    }
   },
   "outputs": [
    {
     "name": "stdout",
     "output_type": "stream",
     "text": [
      "42\n"
     ]
    }
   ],
   "source": [
    "%%bash\n",
    "\n",
    "v=42\n",
    "echo \"$v\""
   ]
  }
 ],
 "metadata": {
  "kernelspec": {
   "display_name": "Python 3",
   "language": "python",
   "name": "python3"
  },
  "language_info": {
   "codemirror_mode": {
    "name": "ipython",
    "version": 3
   },
   "file_extension": ".py",
   "mimetype": "text/x-python",
   "name": "python",
   "nbconvert_exporter": "python",
   "pygments_lexer": "ipython3",
   "version": "3.10.6"
  },
  "orig_nbformat": 4
 },
 "nbformat": 4,
 "nbformat_minor": 2
}
